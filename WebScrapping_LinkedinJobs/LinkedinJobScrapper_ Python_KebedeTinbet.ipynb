{
 "cells": [
  {
   "cell_type": "code",
   "execution_count": 61,
   "id": "0ca815b8",
   "metadata": {},
   "outputs": [],
   "source": [
    "import pandas as pd\n",
    "import re\n",
    "from selenium import webdriver\n",
    "from selenium.webdriver.chrome.service import Service\n",
    "from selenium.webdriver.common.keys import Keys"
   ]
  },
  {
   "cell_type": "code",
   "execution_count": 3,
   "id": "12420634",
   "metadata": {
    "scrolled": true
   },
   "outputs": [],
   "source": [
    "PATH = \"C:\\ProgramData\\Microsoft\\Windows\\Start Menu\\Programs\\chromedriver.exe\" # The location of the chrome driver which will ope\n",
    "# allow selenium to use acess google chrome"
   ]
  },
  {
   "cell_type": "code",
   "execution_count": 63,
   "id": "29a734f8",
   "metadata": {
    "scrolled": true
   },
   "outputs": [],
   "source": [
    "driver=webdriver.Chrome(PATH)  # Giving selenium the access to google chrome."
   ]
  },
  {
   "cell_type": "code",
   "execution_count": 64,
   "id": "4828e49c",
   "metadata": {},
   "outputs": [],
   "source": [
    "driver.get(\"https://www.linkedin.com\") "
   ]
  },
  {
   "cell_type": "code",
   "execution_count": 65,
   "id": "6f370b5f",
   "metadata": {},
   "outputs": [],
   "source": [
    "username =  driver.find_element_by_xpath(\"//*[@id=\\\"session_key\\\"]\")\n",
    "username.send_keys(\"Username\")"
   ]
  },
  {
   "cell_type": "code",
   "execution_count": 66,
   "id": "7fe6f15d",
   "metadata": {},
   "outputs": [],
   "source": [
    "password = driver.find_element_by_xpath(\"//*[@id=\\\"session_password\\\"]\")\n",
    "password.send_keys(\"Password\")"
   ]
  },
  {
   "cell_type": "code",
   "execution_count": 67,
   "id": "7e103d21",
   "metadata": {},
   "outputs": [],
   "source": [
    "driver.find_element_by_xpath(\"//*[@id=\\\"main-content\\\"]/section[1]/div/div/form/button\").click()"
   ]
  },
  {
   "cell_type": "code",
   "execution_count": 68,
   "id": "31604921",
   "metadata": {},
   "outputs": [],
   "source": [
    "driver.get(\"https://www.linkedin.com/jobs/\")"
   ]
  },
  {
   "cell_type": "code",
   "execution_count": 69,
   "id": "fcc1734a",
   "metadata": {},
   "outputs": [
    {
     "name": "stdout",
     "output_type": "stream",
     "text": [
      "['Part-Time Sales Associate', 'Part-Time Sales Associate', 'Part-Time Sales Associate', 'Part-Time Sales Associate', 'Work From Home Customer Service Rep', '2022 Blackbaud Internship Program', 'Data Entry Intern', 'Krispy Kreme Internship Program', 'Remote Customer Care Retention Agent', 'Part Time Admin Assistant (Remote)', 'Entry Level Customer & Sales Associate - Part Time - UC - Philly Airport job', 'Part-Time Virtual Assistant', 'SALES FLOOR ASSOCIATE', 'Sales Associate Seasonal - Gurnee, IL 60031', 'Weekday Evening Sales Associate, J.Crew Retail, Ponce City Market', 'Administrative Assistant, XD', 'Soccer, Sales Rep, NE (NY/NJ/CT)', 'Contact Center Representative (hybrid in person/remote work schedule)', 'Call Center Sales Representative - Work from Home Florida', 'Sales Associate (Excalibur)', 'Call Center Representative- iGaming', 'R&D Intern- Summer 2022', 'Call Center Sales Representative - Work from Home Georgia', 'SALES ASSOCIATE in MANTUA, NJ', 'Sales Assocaite', 'Sales Rep - Flexible Work from Home Schedules', 'Summer 2022 - Retail Data Analyst Intern', 'Member Services Rep Part Time Weekend Evening', 'Part-Time Sales Associate', 'Part-Time Sales Associate', 'Part-Time Sales Associate', 'Part-Time Sales Associate', 'Work From Home Customer Service Rep', '2022 Blackbaud Internship Program', 'Data Entry Intern', 'Krispy Kreme Internship Program', 'Remote Customer Care Retention Agent', 'Entry Level Customer & Sales Associate - Part Time - UC - Philly Airport job', 'Part-Time Virtual Assistant', 'SALES FLOOR ASSOCIATE', 'Sales Associate Seasonal - Gurnee, IL 60031', 'Weekday Evening Sales Associate, J.Crew Retail, Ponce City Market', 'Administrative Assistant, XD', 'Soccer, Sales Rep, NE (NY/NJ/CT)', 'Contact Center Representative (hybrid in person/remote work schedule)', 'Call Center Sales Representative - Work from Home Florida', 'Sales Associate (Excalibur)', 'Call Center Representative- iGaming', 'R&D Intern- Summer 2022', 'Call Center Sales Representative - Work from Home Georgia', 'SALES ASSOCIATE in MANTUA, NJ', 'Sales Assocaite', 'Scheduling Call Center Agent 1, Bethesda OP Centralized Sched, FT, 08:30A-5P', 'Sales Rep - Flexible Work from Home Schedules', 'Summer 2022 - Retail Data Analyst Intern', 'Member Services Rep Part Time Weekend Evening']\n",
      "\n",
      "56\n"
     ]
    }
   ],
   "source": [
    "job = driver.find_elements_by_class_name(\"job-card-list__title\")\n",
    "job_title = []\n",
    "for i in job:\n",
    "    job_title.append(i.text)\n",
    "print(jobs)\n",
    "print()\n",
    "print(len(jobs))"
   ]
  },
  {
   "cell_type": "code",
   "execution_count": 70,
   "id": "5f01f3da",
   "metadata": {},
   "outputs": [
    {
     "name": "stdout",
     "output_type": "stream",
     "text": [
      "['Johnston & Murphy', 'Johnston & Murphy', 'Johnston & Murphy', 'Journeys', 'Beam Health', 'Blackbaud', 'Krispy Kreme', 'SmileDirectClub', 'Philadelphia International Airport (PHL)', 'The Mom Project', 'Morgan Stanley', 'Dollar Tree Stores', 'J.Crew', 'Netflix', 'adidas', 'NAVIS', 'MGM Resorts International', 'Pentasia', 'Five Below', 'Revinate', 'Dollar General', 'The Michaels Companies, Inc.', 'Baptist Health South Florida', 'Vector Marketing', 'Orkin Pest Control', 'The TJX Companies, Inc.', 'PACSUN', 'Rockland Trust']\n",
      "\n",
      "28\n"
     ]
    }
   ],
   "source": [
    "job2 = driver.find_elements_by_class_name(\"job-card-container__company-name\")\n",
    "comp_name = []\n",
    "for i in job2:\n",
    "    comp_name.append(i.text)\n",
    "print(comp_name)\n",
    "print()\n",
    "print(len(comp_name))"
   ]
  },
  {
   "cell_type": "code",
   "execution_count": 71,
   "id": "936f0e91",
   "metadata": {},
   "outputs": [
    {
     "name": "stdout",
     "output_type": "stream",
     "text": [
      "['Pottstown, PA', 'On-site', 'Destin, FL', 'On-site', 'Williamsburg, VA', 'On-site', 'The Woodlands, TX', 'On-site', 'Holmdel, NJ', 'Remote', 'New Hampshire, United States', 'Remote', 'Charlotte, NC', 'On-site', 'United States', 'Remote', 'Medical, Vision, Dental, 401(k)', 'Philadelphia, PA', '1 benefit', 'Boston, MA', 'On-site', 'New York, NY', 'On-site', 'Dacula, GA', 'On-site', 'Atlanta, GA', '401(k), +1 benefit', 'Los Angeles, CA', 'New York, NY', '$46K/yr - $76K/yr (LinkedIn est.)', 'Miami, FL', 'Remote', 'Las Vegas, NV', 'On-site', '$9.30/hr - $23.20/hr (LinkedIn est.)', 'Jersey City, NJ', 'Hybrid', '$40K/yr', 'Houston, TX', 'On-site', 'Atlanta, GA', 'Remote', 'Mantua, NJ', 'Durham, NC', 'On-site', 'Miami, FL', 'On-site', '$33K/yr - $53K/yr (LinkedIn est.)', '1 benefit', 'Alexandria, VA', 'Remote', 'Atlanta, GA', 'Remote', '401(k) benefit', 'Moorestown-Lenola, NJ', 'Cherry Hill, NJ', 'On-site', 'Brockton, MA', '$40K/yr - $64K/yr (LinkedIn est.)']\n",
      "\n",
      "59\n"
     ]
    }
   ],
   "source": [
    "job3 = driver.find_elements_by_class_name(\"job-card-container__metadata-item\")\n",
    "loc_name = []\n",
    "for i in job3:\n",
    "    loc_name.append(i.text)\n",
    "print(loc_name)\n",
    "print()\n",
    "print(len(loc_name))"
   ]
  },
  {
   "cell_type": "code",
   "execution_count": 80,
   "id": "e2492bb3",
   "metadata": {},
   "outputs": [],
   "source": [
    "col = [\"Company Name\", \"Job Title\", \"Location\"]\n",
    "df = pd.DataFrame({\"Company Name\": comp_name[slice(28)], \"Job Title\": job_title[slice(28)], \"Location\": loc_name[slice(28)]})"
   ]
  },
  {
   "cell_type": "code",
   "execution_count": 81,
   "id": "32571627",
   "metadata": {
    "scrolled": false
   },
   "outputs": [
    {
     "data": {
      "text/html": [
       "<div>\n",
       "<style scoped>\n",
       "    .dataframe tbody tr th:only-of-type {\n",
       "        vertical-align: middle;\n",
       "    }\n",
       "\n",
       "    .dataframe tbody tr th {\n",
       "        vertical-align: top;\n",
       "    }\n",
       "\n",
       "    .dataframe thead th {\n",
       "        text-align: right;\n",
       "    }\n",
       "</style>\n",
       "<table border=\"1\" class=\"dataframe\">\n",
       "  <thead>\n",
       "    <tr style=\"text-align: right;\">\n",
       "      <th></th>\n",
       "      <th>Company Name</th>\n",
       "      <th>Job Title</th>\n",
       "      <th>Location</th>\n",
       "    </tr>\n",
       "  </thead>\n",
       "  <tbody>\n",
       "    <tr>\n",
       "      <th>0</th>\n",
       "      <td>Johnston &amp; Murphy</td>\n",
       "      <td>Part-Time Sales Associate</td>\n",
       "      <td>Pottstown, PA</td>\n",
       "    </tr>\n",
       "    <tr>\n",
       "      <th>1</th>\n",
       "      <td>Johnston &amp; Murphy</td>\n",
       "      <td>Part-Time Sales Associate</td>\n",
       "      <td>On-site</td>\n",
       "    </tr>\n",
       "    <tr>\n",
       "      <th>2</th>\n",
       "      <td>Johnston &amp; Murphy</td>\n",
       "      <td>Part-Time Sales Associate</td>\n",
       "      <td>Destin, FL</td>\n",
       "    </tr>\n",
       "    <tr>\n",
       "      <th>3</th>\n",
       "      <td>Journeys</td>\n",
       "      <td>Part-Time Sales Associate</td>\n",
       "      <td>On-site</td>\n",
       "    </tr>\n",
       "    <tr>\n",
       "      <th>4</th>\n",
       "      <td>Beam Health</td>\n",
       "      <td>Data Entry Intern</td>\n",
       "      <td>Williamsburg, VA</td>\n",
       "    </tr>\n",
       "  </tbody>\n",
       "</table>\n",
       "</div>"
      ],
      "text/plain": [
       "        Company Name                  Job Title          Location\n",
       "0  Johnston & Murphy  Part-Time Sales Associate     Pottstown, PA\n",
       "1  Johnston & Murphy  Part-Time Sales Associate           On-site\n",
       "2  Johnston & Murphy  Part-Time Sales Associate        Destin, FL\n",
       "3           Journeys  Part-Time Sales Associate           On-site\n",
       "4        Beam Health          Data Entry Intern  Williamsburg, VA"
      ]
     },
     "execution_count": 81,
     "metadata": {},
     "output_type": "execute_result"
    }
   ],
   "source": [
    "df.head()"
   ]
  },
  {
   "cell_type": "code",
   "execution_count": 75,
   "id": "429b3cf7",
   "metadata": {},
   "outputs": [],
   "source": [
    "df.to_csv(\"JobsFromLinkedinByTinbetKebede.csv\")"
   ]
  }
 ],
 "metadata": {
  "kernelspec": {
   "display_name": "Python 3",
   "language": "python",
   "name": "python3"
  },
  "language_info": {
   "codemirror_mode": {
    "name": "ipython",
    "version": 3
   },
   "file_extension": ".py",
   "mimetype": "text/x-python",
   "name": "python",
   "nbconvert_exporter": "python",
   "pygments_lexer": "ipython3",
   "version": "3.8.8"
  }
 },
 "nbformat": 4,
 "nbformat_minor": 5
}
